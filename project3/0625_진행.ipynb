{
 "cells": [
  {
   "cell_type": "code",
   "execution_count": 1,
   "id": "9ddeb053",
   "metadata": {},
   "outputs": [],
   "source": [
    "import psycopg2"
   ]
  },
  {
   "cell_type": "code",
   "execution_count": 2,
   "id": "65cd615a",
   "metadata": {},
   "outputs": [],
   "source": [
    "conn = psycopg2.connect(\n",
    "    host=\"jelani.db.elephantsql.com\",\n",
    "    database=\"ezmacslm\",\n",
    "    user=\"ezmacslm\",\n",
    "    password=\"6rxnACEKjiwR_xOhI5lYvz60qwSwH-Ed\")"
   ]
  },
  {
   "cell_type": "code",
   "execution_count": 14,
   "id": "55d19394",
   "metadata": {
    "scrolled": true
   },
   "outputs": [
    {
     "ename": "InFailedSqlTransaction",
     "evalue": "current transaction is aborted, commands ignored until end of transaction block\n",
     "output_type": "error",
     "traceback": [
      "\u001b[0;31m---------------------------------------------------------------------------\u001b[0m",
      "\u001b[0;31mInFailedSqlTransaction\u001b[0m                    Traceback (most recent call last)",
      "Input \u001b[0;32mIn [14]\u001b[0m, in \u001b[0;36m<cell line: 2>\u001b[0;34m()\u001b[0m\n\u001b[1;32m      1\u001b[0m cur \u001b[38;5;241m=\u001b[39m conn\u001b[38;5;241m.\u001b[39mcursor()\n\u001b[0;32m----> 2\u001b[0m \u001b[43mcur\u001b[49m\u001b[38;5;241;43m.\u001b[39;49m\u001b[43mexecute\u001b[49m\u001b[43m(\u001b[49m\u001b[38;5;124;43m'''\u001b[39;49m\n\u001b[1;32m      3\u001b[0m \u001b[38;5;124;43mCREATE TABLE mvcompany(\u001b[39;49m\n\u001b[1;32m      4\u001b[0m \u001b[38;5;124;43m    _id VARCHAR(160) NOT NULL PRIMARY KEY,\u001b[39;49m\n\u001b[1;32m      5\u001b[0m \u001b[38;5;124;43m    companyCd VARCHAR(60),\u001b[39;49m\n\u001b[1;32m      6\u001b[0m \u001b[38;5;124;43m    companyNm VARCHAR(160),\u001b[39;49m\n\u001b[1;32m      7\u001b[0m \u001b[38;5;124;43m    companyNmEn VARCHAR(160),\u001b[39;49m\n\u001b[1;32m      8\u001b[0m \u001b[38;5;124;43m    companyPartNames VARCHAR(60),\u001b[39;49m\n\u001b[1;32m      9\u001b[0m \u001b[38;5;124;43m    ceoNm VARCHAR(60),\u001b[39;49m\n\u001b[1;32m     10\u001b[0m \u001b[38;5;124;43m    filmoNames VARCHAR(160)\u001b[39;49m\n\u001b[1;32m     11\u001b[0m \u001b[38;5;124;43m    );\u001b[39;49m\u001b[38;5;124;43m'''\u001b[39;49m\u001b[43m)\u001b[49m\n\u001b[1;32m     13\u001b[0m cursor\u001b[38;5;241m.\u001b[39mexecute(\u001b[38;5;124m'''\u001b[39m\n\u001b[1;32m     14\u001b[0m \u001b[38;5;124mCREATE TABLE mvcontents(\u001b[39m\n\u001b[1;32m     15\u001b[0m \u001b[38;5;124m    _id VARCHAR(160) NOT NULL AUTO_INCREMENT PRIMARY KEY,\u001b[39m\n\u001b[0;32m   (...)\u001b[0m\n\u001b[1;32m     30\u001b[0m \u001b[38;5;124m    companyNm VARCHAR(60)\u001b[39m\n\u001b[1;32m     31\u001b[0m \u001b[38;5;124m    );\u001b[39m\u001b[38;5;124m'''\u001b[39m)\n\u001b[1;32m     33\u001b[0m cur\u001b[38;5;241m.\u001b[39mexecute(\u001b[38;5;124m'''\u001b[39m\n\u001b[1;32m     34\u001b[0m \u001b[38;5;124mCREATE TABLE mvactors(\u001b[39m\n\u001b[1;32m     35\u001b[0m \u001b[38;5;124m    _id VARCHAR(160) NOT NULL PRIMARY KEY,\u001b[39m\n\u001b[0;32m   (...)\u001b[0m\n\u001b[1;32m     40\u001b[0m \u001b[38;5;124m    filmoNames VARCHAR(160)\u001b[39m\n\u001b[1;32m     41\u001b[0m \u001b[38;5;124m    );\u001b[39m\u001b[38;5;124m'''\u001b[39m)\n",
      "\u001b[0;31mInFailedSqlTransaction\u001b[0m: current transaction is aborted, commands ignored until end of transaction block\n"
     ]
    }
   ],
   "source": [
    "cur = conn.cursor()\n",
    "cur.execute('''\n",
    "CREATE TABLE mvcompany(\n",
    "    _id VARCHAR(160) NOT NULL PRIMARY KEY,\n",
    "    companyCd VARCHAR(60),\n",
    "    companyNm VARCHAR(160),\n",
    "    companyNmEn VARCHAR(160),\n",
    "    companyPartNames VARCHAR(60),\n",
    "    ceoNm VARCHAR(60),\n",
    "    filmoNames VARCHAR(160)\n",
    "    );''')\n",
    "\n",
    "cursor.execute('''\n",
    "CREATE TABLE mvcontents(\n",
    "    _id VARCHAR(160) NOT NULL AUTO_INCREMENT PRIMARY KEY,\n",
    "    movieCd VARCHAR(20),\n",
    "    movieNm VARCHAR(160),\n",
    "    movieNmEn VARCHAR(160),\n",
    "    prdtYear VARCHAR(10),\n",
    "    openDt VARCHAR(10),\n",
    "    typeNm VARCHAR(20),\n",
    "    prdtStatNm VARCHAR(20),\n",
    "    nationAlt VARCHAR(40),\n",
    "    repNationNm VARCHAR(40),\n",
    "    repGenreNm VARCHAR(40),\n",
    "    directors VARCHAR(40),\n",
    "    peopleNm VARCHAR(60),\n",
    "    companys VARCHAR(40),\n",
    "    companyCd VARCHAR(40),\n",
    "    companyNm VARCHAR(60)\n",
    "    );''')\n",
    "\n",
    "cur.execute('''\n",
    "CREATE TABLE mvactors(\n",
    "    _id VARCHAR(160) NOT NULL PRIMARY KEY,\n",
    "    peopleCd VARCHAR(60),\n",
    "    peopleNm VARCHAR(60),\n",
    "    peopleNmEn VARCHAR(60),\n",
    "    repRoleNm VARCHAR(60),\n",
    "    filmoNames VARCHAR(160)\n",
    "    );''')\n",
    "\n",
    "cur.commit()"
   ]
  },
  {
   "cell_type": "code",
   "execution_count": null,
   "id": "2ea33316",
   "metadata": {},
   "outputs": [],
   "source": [
    "cursor.execute('''\n",
    "CREATE TABLE mvcontents(\n",
    "    _id VARCHAR(160) NOT NULL AUTO_INCREMENT PRIMARY KEY,\n",
    "    movieCd VARCHAR(20),\n",
    "    movieNm VARCHAR(160),\n",
    "    movieNmEn VARCHAR(160),\n",
    "    prdtYear VARCHAR(10),\n",
    "    openDt VARCHAR(10),\n",
    "    typeNm VARCHAR(20),\n",
    "    prdtStatNm VARCHAR(20),\n",
    "    nationAlt VARCHAR(40),\n",
    "    repNationNm VARCHAR(40),\n",
    "    repGenreNm VARCHAR(40),\n",
    "    directors VARCHAR(40),\n",
    "    peopleNm VARCHAR(60),\n",
    "    companys VARCHAR(40),\n",
    "    companyCd VARCHAR(40),\n",
    "    companyNm VARCHAR(60)\n",
    "    );''')\n",
    "cur.commit()\n",
    "cur.close()\n",
    "\n",
    "cur.execute('''\n",
    "CREATE TABLE mvactors(\n",
    "    _id VARCHAR(160) NOT NULL PRIMARY KEY,\n",
    "    peopleCd VARCHAR(60),\n",
    "    peopleNm VARCHAR(60),\n",
    "    peopleNmEn VARCHAR(60),\n",
    "    repRoleNm VARCHAR(60),\n",
    "    filmoNames VARCHAR(160)\n",
    "    );''')\n",
    "\n",
    "conn.commit()\n",
    "cur.close()"
   ]
  },
  {
   "cell_type": "code",
   "execution_count": null,
   "id": "f0acfac1",
   "metadata": {},
   "outputs": [],
   "source": []
  },
  {
   "cell_type": "code",
   "execution_count": null,
   "id": "c8028075",
   "metadata": {},
   "outputs": [],
   "source": []
  },
  {
   "cell_type": "code",
   "execution_count": null,
   "id": "803a420c",
   "metadata": {},
   "outputs": [],
   "source": []
  },
  {
   "cell_type": "code",
   "execution_count": null,
   "id": "a9eaaeb8",
   "metadata": {},
   "outputs": [],
   "source": []
  },
  {
   "cell_type": "code",
   "execution_count": null,
   "id": "4cb87bf4",
   "metadata": {},
   "outputs": [],
   "source": []
  },
  {
   "cell_type": "code",
   "execution_count": null,
   "id": "cae7b152",
   "metadata": {},
   "outputs": [],
   "source": []
  },
  {
   "cell_type": "code",
   "execution_count": null,
   "id": "6a250c63",
   "metadata": {},
   "outputs": [],
   "source": []
  },
  {
   "cell_type": "code",
   "execution_count": null,
   "id": "d8f9a2b2",
   "metadata": {},
   "outputs": [],
   "source": []
  },
  {
   "cell_type": "code",
   "execution_count": null,
   "id": "6c9ec1da",
   "metadata": {},
   "outputs": [],
   "source": []
  },
  {
   "cell_type": "code",
   "execution_count": null,
   "id": "7c2e5328",
   "metadata": {},
   "outputs": [],
   "source": []
  },
  {
   "cell_type": "code",
   "execution_count": null,
   "id": "11566557",
   "metadata": {},
   "outputs": [],
   "source": []
  }
 ],
 "metadata": {
  "kernelspec": {
   "display_name": "Python 3 (ipykernel)",
   "language": "python",
   "name": "python3"
  },
  "language_info": {
   "codemirror_mode": {
    "name": "ipython",
    "version": 3
   },
   "file_extension": ".py",
   "mimetype": "text/x-python",
   "name": "python",
   "nbconvert_exporter": "python",
   "pygments_lexer": "ipython3",
   "version": "3.9.12"
  }
 },
 "nbformat": 4,
 "nbformat_minor": 5
}
